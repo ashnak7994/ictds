{
 "cells": [
  {
   "cell_type": "code",
   "execution_count": 86,
   "id": "39eabf3d",
   "metadata": {},
   "outputs": [],
   "source": [
    "import pandas as pd\n",
    "import numpy as np\n",
    "from sklearn.model_selection import train_test_split, cross_val_score, StratifiedKFold, KFold\n",
    "from sklearn.preprocessing import StandardScaler\n",
    "from sklearn.neighbors import KNeighborsClassifier\n",
    "from sklearn.svm import SVC\n",
    "from sklearn.metrics import accuracy_score"
   ]
  },
  {
   "cell_type": "markdown",
   "id": "0a8bf8ba",
   "metadata": {},
   "source": [
    "# Load Dataset"
   ]
  },
  {
   "cell_type": "code",
   "execution_count": 87,
   "id": "1e3bff72",
   "metadata": {},
   "outputs": [
    {
     "data": {
      "text/html": [
       "<div>\n",
       "<style scoped>\n",
       "    .dataframe tbody tr th:only-of-type {\n",
       "        vertical-align: middle;\n",
       "    }\n",
       "\n",
       "    .dataframe tbody tr th {\n",
       "        vertical-align: top;\n",
       "    }\n",
       "\n",
       "    .dataframe thead th {\n",
       "        text-align: right;\n",
       "    }\n",
       "</style>\n",
       "<table border=\"1\" class=\"dataframe\">\n",
       "  <thead>\n",
       "    <tr style=\"text-align: right;\">\n",
       "      <th></th>\n",
       "      <th>PassengerId</th>\n",
       "      <th>Survived</th>\n",
       "      <th>Pclass</th>\n",
       "      <th>Name</th>\n",
       "      <th>Sex</th>\n",
       "      <th>Age</th>\n",
       "      <th>SibSp</th>\n",
       "      <th>Parch</th>\n",
       "      <th>Ticket</th>\n",
       "      <th>Fare</th>\n",
       "      <th>Cabin</th>\n",
       "      <th>Embarked</th>\n",
       "    </tr>\n",
       "  </thead>\n",
       "  <tbody>\n",
       "    <tr>\n",
       "      <th>0</th>\n",
       "      <td>1</td>\n",
       "      <td>0</td>\n",
       "      <td>3</td>\n",
       "      <td>Braund, Mr. Owen Harris</td>\n",
       "      <td>male</td>\n",
       "      <td>22.0</td>\n",
       "      <td>1</td>\n",
       "      <td>0</td>\n",
       "      <td>A/5 21171</td>\n",
       "      <td>7.2500</td>\n",
       "      <td>NaN</td>\n",
       "      <td>S</td>\n",
       "    </tr>\n",
       "    <tr>\n",
       "      <th>1</th>\n",
       "      <td>2</td>\n",
       "      <td>1</td>\n",
       "      <td>1</td>\n",
       "      <td>Cumings, Mrs. John Bradley (Florence Briggs Th...</td>\n",
       "      <td>female</td>\n",
       "      <td>38.0</td>\n",
       "      <td>1</td>\n",
       "      <td>0</td>\n",
       "      <td>PC 17599</td>\n",
       "      <td>71.2833</td>\n",
       "      <td>C85</td>\n",
       "      <td>C</td>\n",
       "    </tr>\n",
       "    <tr>\n",
       "      <th>2</th>\n",
       "      <td>3</td>\n",
       "      <td>1</td>\n",
       "      <td>3</td>\n",
       "      <td>Heikkinen, Miss. Laina</td>\n",
       "      <td>female</td>\n",
       "      <td>26.0</td>\n",
       "      <td>0</td>\n",
       "      <td>0</td>\n",
       "      <td>STON/O2. 3101282</td>\n",
       "      <td>7.9250</td>\n",
       "      <td>NaN</td>\n",
       "      <td>S</td>\n",
       "    </tr>\n",
       "    <tr>\n",
       "      <th>3</th>\n",
       "      <td>4</td>\n",
       "      <td>1</td>\n",
       "      <td>1</td>\n",
       "      <td>Futrelle, Mrs. Jacques Heath (Lily May Peel)</td>\n",
       "      <td>female</td>\n",
       "      <td>35.0</td>\n",
       "      <td>1</td>\n",
       "      <td>0</td>\n",
       "      <td>113803</td>\n",
       "      <td>53.1000</td>\n",
       "      <td>C123</td>\n",
       "      <td>S</td>\n",
       "    </tr>\n",
       "    <tr>\n",
       "      <th>4</th>\n",
       "      <td>5</td>\n",
       "      <td>0</td>\n",
       "      <td>3</td>\n",
       "      <td>Allen, Mr. William Henry</td>\n",
       "      <td>male</td>\n",
       "      <td>35.0</td>\n",
       "      <td>0</td>\n",
       "      <td>0</td>\n",
       "      <td>373450</td>\n",
       "      <td>8.0500</td>\n",
       "      <td>NaN</td>\n",
       "      <td>S</td>\n",
       "    </tr>\n",
       "  </tbody>\n",
       "</table>\n",
       "</div>"
      ],
      "text/plain": [
       "   PassengerId  Survived  Pclass  \\\n",
       "0            1         0       3   \n",
       "1            2         1       1   \n",
       "2            3         1       3   \n",
       "3            4         1       1   \n",
       "4            5         0       3   \n",
       "\n",
       "                                                Name     Sex   Age  SibSp  \\\n",
       "0                            Braund, Mr. Owen Harris    male  22.0      1   \n",
       "1  Cumings, Mrs. John Bradley (Florence Briggs Th...  female  38.0      1   \n",
       "2                             Heikkinen, Miss. Laina  female  26.0      0   \n",
       "3       Futrelle, Mrs. Jacques Heath (Lily May Peel)  female  35.0      1   \n",
       "4                           Allen, Mr. William Henry    male  35.0      0   \n",
       "\n",
       "   Parch            Ticket     Fare Cabin Embarked  \n",
       "0      0         A/5 21171   7.2500   NaN        S  \n",
       "1      0          PC 17599  71.2833   C85        C  \n",
       "2      0  STON/O2. 3101282   7.9250   NaN        S  \n",
       "3      0            113803  53.1000  C123        S  \n",
       "4      0            373450   8.0500   NaN        S  "
      ]
     },
     "execution_count": 87,
     "metadata": {},
     "output_type": "execute_result"
    }
   ],
   "source": [
    "# Load dataset\n",
    "titanic_df = pd.read_csv(r'C:\\Users\\USER\\Desktop\\ICT DATASCIENCE\\titanic_dataset .csv')\n",
    "titanic_df.head()"
   ]
  },
  {
   "cell_type": "markdown",
   "id": "abf428d8",
   "metadata": {},
   "source": [
    "# Pre processing"
   ]
  },
  {
   "cell_type": "code",
   "execution_count": 88,
   "id": "ed0b439d",
   "metadata": {},
   "outputs": [],
   "source": [
    "# Drop irrelevant columns\n",
    "titanic_df.drop(['PassengerId', 'Name', 'Ticket', 'Cabin'], axis=1, inplace=True)\n"
   ]
  },
  {
   "cell_type": "code",
   "execution_count": 89,
   "id": "a1b3a6e7",
   "metadata": {},
   "outputs": [
    {
     "data": {
      "text/plain": [
       "Survived      0\n",
       "Pclass        0\n",
       "Sex           0\n",
       "Age         177\n",
       "SibSp         0\n",
       "Parch         0\n",
       "Fare          0\n",
       "Embarked      2\n",
       "dtype: int64"
      ]
     },
     "execution_count": 89,
     "metadata": {},
     "output_type": "execute_result"
    }
   ],
   "source": [
    "titanic_df.isna().sum()"
   ]
  },
  {
   "cell_type": "code",
   "execution_count": 90,
   "id": "81424d40",
   "metadata": {},
   "outputs": [],
   "source": [
    "# Fill missing values\n",
    "titanic_df['Age'].fillna(titanic_df['Age'].median(), inplace=True)\n",
    "titanic_df['Embarked'].fillna(titanic_df['Embarked'].mode(), inplace=True)"
   ]
  },
  {
   "cell_type": "code",
   "execution_count": 91,
   "id": "b554dcdc",
   "metadata": {},
   "outputs": [
    {
     "data": {
      "text/plain": [
       "Survived    0\n",
       "Pclass      0\n",
       "Sex         0\n",
       "Age         0\n",
       "SibSp       0\n",
       "Parch       0\n",
       "Fare        0\n",
       "Embarked    2\n",
       "dtype: int64"
      ]
     },
     "execution_count": 91,
     "metadata": {},
     "output_type": "execute_result"
    }
   ],
   "source": [
    "titanic_df.isna().sum()"
   ]
  },
  {
   "cell_type": "code",
   "execution_count": 92,
   "id": "ba43012f",
   "metadata": {},
   "outputs": [
    {
     "name": "stdout",
     "output_type": "stream",
     "text": [
      "<class 'pandas.core.frame.DataFrame'>\n",
      "RangeIndex: 891 entries, 0 to 890\n",
      "Data columns (total 8 columns):\n",
      " #   Column    Non-Null Count  Dtype  \n",
      "---  ------    --------------  -----  \n",
      " 0   Survived  891 non-null    int64  \n",
      " 1   Pclass    891 non-null    int64  \n",
      " 2   Sex       891 non-null    object \n",
      " 3   Age       891 non-null    float64\n",
      " 4   SibSp     891 non-null    int64  \n",
      " 5   Parch     891 non-null    int64  \n",
      " 6   Fare      891 non-null    float64\n",
      " 7   Embarked  889 non-null    object \n",
      "dtypes: float64(2), int64(4), object(2)\n",
      "memory usage: 55.8+ KB\n"
     ]
    }
   ],
   "source": [
    "titanic_df.info()"
   ]
  },
  {
   "cell_type": "code",
   "execution_count": 93,
   "id": "6b6ff549",
   "metadata": {},
   "outputs": [],
   "source": [
    "# Convert categorical variables into dummy/indicator variables\n",
    "titanic_df = pd.get_dummies(titanic_df, columns=['Sex', 'Embarked'],drop_first=True)"
   ]
  },
  {
   "cell_type": "code",
   "execution_count": 94,
   "id": "e1ef90ed",
   "metadata": {},
   "outputs": [],
   "source": [
    "# Separate features and target variable\n",
    "X = titanic_df.drop('Survived', axis=1)\n",
    "y = titanic_df['Survived']"
   ]
  },
  {
   "cell_type": "code",
   "execution_count": 95,
   "id": "c57a07f1",
   "metadata": {},
   "outputs": [
    {
     "data": {
      "text/html": [
       "<div>\n",
       "<style scoped>\n",
       "    .dataframe tbody tr th:only-of-type {\n",
       "        vertical-align: middle;\n",
       "    }\n",
       "\n",
       "    .dataframe tbody tr th {\n",
       "        vertical-align: top;\n",
       "    }\n",
       "\n",
       "    .dataframe thead th {\n",
       "        text-align: right;\n",
       "    }\n",
       "</style>\n",
       "<table border=\"1\" class=\"dataframe\">\n",
       "  <thead>\n",
       "    <tr style=\"text-align: right;\">\n",
       "      <th></th>\n",
       "      <th>0</th>\n",
       "      <th>1</th>\n",
       "      <th>2</th>\n",
       "      <th>3</th>\n",
       "      <th>4</th>\n",
       "      <th>5</th>\n",
       "      <th>6</th>\n",
       "      <th>7</th>\n",
       "    </tr>\n",
       "  </thead>\n",
       "  <tbody>\n",
       "    <tr>\n",
       "      <th>count</th>\n",
       "      <td>8.910000e+02</td>\n",
       "      <td>8.910000e+02</td>\n",
       "      <td>8.910000e+02</td>\n",
       "      <td>8.910000e+02</td>\n",
       "      <td>8.910000e+02</td>\n",
       "      <td>8.910000e+02</td>\n",
       "      <td>891.000000</td>\n",
       "      <td>8.910000e+02</td>\n",
       "    </tr>\n",
       "    <tr>\n",
       "      <th>mean</th>\n",
       "      <td>-8.772133e-17</td>\n",
       "      <td>2.272780e-16</td>\n",
       "      <td>4.386066e-17</td>\n",
       "      <td>5.382900e-17</td>\n",
       "      <td>3.987333e-18</td>\n",
       "      <td>-1.156327e-16</td>\n",
       "      <td>0.000000</td>\n",
       "      <td>-4.984166e-17</td>\n",
       "    </tr>\n",
       "    <tr>\n",
       "      <th>std</th>\n",
       "      <td>1.000562e+00</td>\n",
       "      <td>1.000562e+00</td>\n",
       "      <td>1.000562e+00</td>\n",
       "      <td>1.000562e+00</td>\n",
       "      <td>1.000562e+00</td>\n",
       "      <td>1.000562e+00</td>\n",
       "      <td>1.000562</td>\n",
       "      <td>1.000562e+00</td>\n",
       "    </tr>\n",
       "    <tr>\n",
       "      <th>min</th>\n",
       "      <td>-1.566107e+00</td>\n",
       "      <td>-2.224156e+00</td>\n",
       "      <td>-4.745452e-01</td>\n",
       "      <td>-4.736736e-01</td>\n",
       "      <td>-6.484217e-01</td>\n",
       "      <td>-1.355574e+00</td>\n",
       "      <td>-0.307562</td>\n",
       "      <td>-1.614710e+00</td>\n",
       "    </tr>\n",
       "    <tr>\n",
       "      <th>25%</th>\n",
       "      <td>-3.693648e-01</td>\n",
       "      <td>-5.657365e-01</td>\n",
       "      <td>-4.745452e-01</td>\n",
       "      <td>-4.736736e-01</td>\n",
       "      <td>-4.891482e-01</td>\n",
       "      <td>-1.355574e+00</td>\n",
       "      <td>-0.307562</td>\n",
       "      <td>-1.614710e+00</td>\n",
       "    </tr>\n",
       "    <tr>\n",
       "      <th>50%</th>\n",
       "      <td>8.273772e-01</td>\n",
       "      <td>-1.046374e-01</td>\n",
       "      <td>-4.745452e-01</td>\n",
       "      <td>-4.736736e-01</td>\n",
       "      <td>-3.573909e-01</td>\n",
       "      <td>7.376951e-01</td>\n",
       "      <td>-0.307562</td>\n",
       "      <td>6.193064e-01</td>\n",
       "    </tr>\n",
       "    <tr>\n",
       "      <th>75%</th>\n",
       "      <td>8.273772e-01</td>\n",
       "      <td>4.333115e-01</td>\n",
       "      <td>4.327934e-01</td>\n",
       "      <td>-4.736736e-01</td>\n",
       "      <td>-2.424635e-02</td>\n",
       "      <td>7.376951e-01</td>\n",
       "      <td>-0.307562</td>\n",
       "      <td>6.193064e-01</td>\n",
       "    </tr>\n",
       "    <tr>\n",
       "      <th>max</th>\n",
       "      <td>8.273772e-01</td>\n",
       "      <td>3.891554e+00</td>\n",
       "      <td>6.784163e+00</td>\n",
       "      <td>6.974147e+00</td>\n",
       "      <td>9.667167e+00</td>\n",
       "      <td>7.376951e-01</td>\n",
       "      <td>3.251373</td>\n",
       "      <td>6.193064e-01</td>\n",
       "    </tr>\n",
       "  </tbody>\n",
       "</table>\n",
       "</div>"
      ],
      "text/plain": [
       "                  0             1             2             3             4  \\\n",
       "count  8.910000e+02  8.910000e+02  8.910000e+02  8.910000e+02  8.910000e+02   \n",
       "mean  -8.772133e-17  2.272780e-16  4.386066e-17  5.382900e-17  3.987333e-18   \n",
       "std    1.000562e+00  1.000562e+00  1.000562e+00  1.000562e+00  1.000562e+00   \n",
       "min   -1.566107e+00 -2.224156e+00 -4.745452e-01 -4.736736e-01 -6.484217e-01   \n",
       "25%   -3.693648e-01 -5.657365e-01 -4.745452e-01 -4.736736e-01 -4.891482e-01   \n",
       "50%    8.273772e-01 -1.046374e-01 -4.745452e-01 -4.736736e-01 -3.573909e-01   \n",
       "75%    8.273772e-01  4.333115e-01  4.327934e-01 -4.736736e-01 -2.424635e-02   \n",
       "max    8.273772e-01  3.891554e+00  6.784163e+00  6.974147e+00  9.667167e+00   \n",
       "\n",
       "                  5           6             7  \n",
       "count  8.910000e+02  891.000000  8.910000e+02  \n",
       "mean  -1.156327e-16    0.000000 -4.984166e-17  \n",
       "std    1.000562e+00    1.000562  1.000562e+00  \n",
       "min   -1.355574e+00   -0.307562 -1.614710e+00  \n",
       "25%   -1.355574e+00   -0.307562 -1.614710e+00  \n",
       "50%    7.376951e-01   -0.307562  6.193064e-01  \n",
       "75%    7.376951e-01   -0.307562  6.193064e-01  \n",
       "max    7.376951e-01    3.251373  6.193064e-01  "
      ]
     },
     "execution_count": 95,
     "metadata": {},
     "output_type": "execute_result"
    }
   ],
   "source": [
    "# Standardize features\n",
    "sc = StandardScaler()\n",
    "X_sc = sc.fit_transform(X)\n",
    "X_sc=pd.DataFrame(X_sc)\n",
    "X_sc.describe()"
   ]
  },
  {
   "cell_type": "code",
   "execution_count": 96,
   "id": "daf3de9d",
   "metadata": {},
   "outputs": [],
   "source": [
    "# Split data into train and test sets\n",
    "X_train, X_test, y_train, y_test = train_test_split(X, y, test_size=0.2, random_state=42)\n"
   ]
  },
  {
   "cell_type": "markdown",
   "id": "1fed2237",
   "metadata": {},
   "source": [
    "# KNN Model"
   ]
  },
  {
   "cell_type": "code",
   "execution_count": 107,
   "id": "21a60adb",
   "metadata": {},
   "outputs": [],
   "source": [
    "# Create kNN model\n",
    "knn_model = KNeighborsClassifier()"
   ]
  },
  {
   "cell_type": "markdown",
   "id": "2446af2e",
   "metadata": {},
   "source": [
    "# KFold cross validation on KNN"
   ]
  },
  {
   "cell_type": "code",
   "execution_count": 108,
   "id": "379779c1",
   "metadata": {},
   "outputs": [],
   "source": [
    "kfold_validator=KFold(10)"
   ]
  },
  {
   "cell_type": "code",
   "execution_count": 109,
   "id": "1aee0720",
   "metadata": {},
   "outputs": [],
   "source": [
    "kf_cv_result=cross_val_score(knn_model,X_sc,y,cv=kfold_validator)"
   ]
  },
  {
   "cell_type": "code",
   "execution_count": 110,
   "id": "1c1de054",
   "metadata": {},
   "outputs": [
    {
     "data": {
      "text/plain": [
       "array([0.78888889, 0.79775281, 0.7752809 , 0.80898876, 0.82022472,\n",
       "       0.82022472, 0.83146067, 0.7752809 , 0.85393258, 0.78651685])"
      ]
     },
     "execution_count": 110,
     "metadata": {},
     "output_type": "execute_result"
    }
   ],
   "source": [
    "kf_cv_result"
   ]
  },
  {
   "cell_type": "code",
   "execution_count": 111,
   "id": "8b534756",
   "metadata": {},
   "outputs": [
    {
     "data": {
      "text/plain": [
       "0.8058551810237204"
      ]
     },
     "execution_count": 111,
     "metadata": {},
     "output_type": "execute_result"
    }
   ],
   "source": [
    "#Average score of the model\n",
    "kf_cv_result.mean()"
   ]
  },
  {
   "cell_type": "markdown",
   "id": "a04199e7",
   "metadata": {},
   "source": [
    "#  stratified k-fold cross validation on KNN"
   ]
  },
  {
   "cell_type": "code",
   "execution_count": 112,
   "id": "d4ab98cf",
   "metadata": {},
   "outputs": [],
   "source": [
    "strat_validator=StratifiedKFold(n_splits=10)"
   ]
  },
  {
   "cell_type": "code",
   "execution_count": 113,
   "id": "7e7e050d",
   "metadata": {},
   "outputs": [],
   "source": [
    "st_cv_result=cross_val_score(knn_model,X_sc,y,cv=strat_validator)"
   ]
  },
  {
   "cell_type": "code",
   "execution_count": 114,
   "id": "03e5cc48",
   "metadata": {},
   "outputs": [
    {
     "data": {
      "text/plain": [
       "array([0.78888889, 0.82022472, 0.73033708, 0.83146067, 0.84269663,\n",
       "       0.82022472, 0.85393258, 0.78651685, 0.83146067, 0.78651685])"
      ]
     },
     "execution_count": 114,
     "metadata": {},
     "output_type": "execute_result"
    }
   ],
   "source": [
    "st_cv_result"
   ]
  },
  {
   "cell_type": "code",
   "execution_count": 115,
   "id": "26f59030",
   "metadata": {},
   "outputs": [
    {
     "data": {
      "text/plain": [
       "0.8092259675405742"
      ]
     },
     "execution_count": 115,
     "metadata": {},
     "output_type": "execute_result"
    }
   ],
   "source": [
    "#Average score of the model\n",
    "st_cv_result.mean()"
   ]
  },
  {
   "cell_type": "markdown",
   "id": "1dce471e",
   "metadata": {},
   "source": [
    "# SVM Model"
   ]
  },
  {
   "cell_type": "code",
   "execution_count": 116,
   "id": "9fa8db63",
   "metadata": {},
   "outputs": [],
   "source": [
    "# Create SVM model\n",
    "sv_clf=SVC()"
   ]
  },
  {
   "cell_type": "markdown",
   "id": "375b2065",
   "metadata": {},
   "source": [
    "# KFold cross validation on SVM"
   ]
  },
  {
   "cell_type": "code",
   "execution_count": 117,
   "id": "ed3a36f7",
   "metadata": {},
   "outputs": [],
   "source": [
    "kf_cv_result_svm=cross_val_score(sv_clf,X_sc,y,cv=kfold_validator)"
   ]
  },
  {
   "cell_type": "code",
   "execution_count": 118,
   "id": "54901410",
   "metadata": {},
   "outputs": [
    {
     "data": {
      "text/plain": [
       "array([0.81111111, 0.86516854, 0.7752809 , 0.84269663, 0.79775281,\n",
       "       0.79775281, 0.80898876, 0.75280899, 0.8988764 , 0.86516854])"
      ]
     },
     "execution_count": 118,
     "metadata": {},
     "output_type": "execute_result"
    }
   ],
   "source": [
    "kf_cv_result_svm"
   ]
  },
  {
   "cell_type": "code",
   "execution_count": 119,
   "id": "6ae447a3",
   "metadata": {},
   "outputs": [
    {
     "data": {
      "text/plain": [
       "0.8215605493133584"
      ]
     },
     "execution_count": 119,
     "metadata": {},
     "output_type": "execute_result"
    }
   ],
   "source": [
    "kf_cv_result_svm.mean()"
   ]
  },
  {
   "cell_type": "markdown",
   "id": "1c9a0e00",
   "metadata": {},
   "source": [
    "# stratified k-fold cross validation on SVM"
   ]
  },
  {
   "cell_type": "code",
   "execution_count": 120,
   "id": "31f73cef",
   "metadata": {},
   "outputs": [],
   "source": [
    "st_cv_result_svm=cross_val_score(sv_clf,X_sc,y,cv=strat_validator)"
   ]
  },
  {
   "cell_type": "code",
   "execution_count": 121,
   "id": "ffdba49b",
   "metadata": {},
   "outputs": [
    {
     "data": {
      "text/plain": [
       "array([0.81111111, 0.84269663, 0.7752809 , 0.86516854, 0.82022472,\n",
       "       0.78651685, 0.83146067, 0.76404494, 0.87640449, 0.87640449])"
      ]
     },
     "execution_count": 121,
     "metadata": {},
     "output_type": "execute_result"
    }
   ],
   "source": [
    "st_cv_result_svm"
   ]
  },
  {
   "cell_type": "code",
   "execution_count": 122,
   "id": "e1e8a62b",
   "metadata": {},
   "outputs": [
    {
     "data": {
      "text/plain": [
       "0.8249313358302123"
      ]
     },
     "execution_count": 122,
     "metadata": {},
     "output_type": "execute_result"
    }
   ],
   "source": [
    "st_cv_result_svm.mean()"
   ]
  },
  {
   "cell_type": "markdown",
   "id": "0d5345d9",
   "metadata": {},
   "source": [
    "# Average accuracy score of models"
   ]
  },
  {
   "cell_type": "code",
   "execution_count": 123,
   "id": "17eb9f27",
   "metadata": {},
   "outputs": [
    {
     "name": "stdout",
     "output_type": "stream",
     "text": [
      "Average Accuracy Scores:\n",
      "KNN KFold average score: 0.8058551810237204\n",
      "kNN Stratified Kfold average score: 0.8092259675405742\n",
      "SVM KFold average score: 0.8215605493133584\n",
      "SVM Stratified Kfold average score: 0.8249313358302123\n"
     ]
    }
   ],
   "source": [
    "print(\"Average Accuracy Scores:\")\n",
    "print(\"KNN KFold average score:\",kf_cv_result.mean())\n",
    "print(\"kNN Stratified Kfold average score:\",st_cv_result.mean())\n",
    "print(\"SVM KFold average score:\",kf_cv_result_svm.mean())\n",
    "print(\"SVM Stratified Kfold average score:\",st_cv_result_svm.mean())"
   ]
  },
  {
   "cell_type": "code",
   "execution_count": null,
   "id": "b2fd501b",
   "metadata": {},
   "outputs": [],
   "source": []
  }
 ],
 "metadata": {
  "kernelspec": {
   "display_name": "Python 3 (ipykernel)",
   "language": "python",
   "name": "python3"
  },
  "language_info": {
   "codemirror_mode": {
    "name": "ipython",
    "version": 3
   },
   "file_extension": ".py",
   "mimetype": "text/x-python",
   "name": "python",
   "nbconvert_exporter": "python",
   "pygments_lexer": "ipython3",
   "version": "3.11.5"
  }
 },
 "nbformat": 4,
 "nbformat_minor": 5
}
