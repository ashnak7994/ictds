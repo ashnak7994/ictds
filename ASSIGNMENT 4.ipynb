{
 "cells": [
  {
   "cell_type": "markdown",
   "id": "3a1f7221",
   "metadata": {},
   "source": [
    "# Load the dataset"
   ]
  },
  {
   "cell_type": "code",
   "execution_count": 1,
   "id": "554cf9bd",
   "metadata": {},
   "outputs": [],
   "source": [
    "import pandas as pd\n",
    "from sklearn.preprocessing import MinMaxScaler\n",
    "data = pd.read_csv(\"C:\\\\Users\\\\user\\\\Downloads\\\\titanic_dataset.csv\")"
   ]
  },
  {
   "cell_type": "markdown",
   "id": "a12e5dd0",
   "metadata": {},
   "source": [
    "# ‘PassengerId’ as the index column"
   ]
  },
  {
   "cell_type": "code",
   "execution_count": 2,
   "id": "ee7d8f5e",
   "metadata": {},
   "outputs": [],
   "source": [
    "data = data.set_index('PassengerId')"
   ]
  },
  {
   "cell_type": "markdown",
   "id": "b21939cc",
   "metadata": {},
   "source": [
    "# basic details of the dataset"
   ]
  },
  {
   "cell_type": "code",
   "execution_count": 3,
   "id": "c3c5eca0",
   "metadata": {},
   "outputs": [
    {
     "name": "stdout",
     "output_type": "stream",
     "text": [
      "<class 'pandas.core.frame.DataFrame'>\n",
      "Int64Index: 891 entries, 1 to 891\n",
      "Data columns (total 11 columns):\n",
      " #   Column    Non-Null Count  Dtype  \n",
      "---  ------    --------------  -----  \n",
      " 0   Survived  891 non-null    int64  \n",
      " 1   Pclass    891 non-null    int64  \n",
      " 2   Name      891 non-null    object \n",
      " 3   Sex       891 non-null    object \n",
      " 4   Age       714 non-null    float64\n",
      " 5   SibSp     891 non-null    int64  \n",
      " 6   Parch     891 non-null    int64  \n",
      " 7   Ticket    891 non-null    object \n",
      " 8   Fare      891 non-null    float64\n",
      " 9   Cabin     204 non-null    object \n",
      " 10  Embarked  889 non-null    object \n",
      "dtypes: float64(2), int64(4), object(5)\n",
      "memory usage: 83.5+ KB\n"
     ]
    },
    {
     "data": {
      "text/html": [
       "<div>\n",
       "<style scoped>\n",
       "    .dataframe tbody tr th:only-of-type {\n",
       "        vertical-align: middle;\n",
       "    }\n",
       "\n",
       "    .dataframe tbody tr th {\n",
       "        vertical-align: top;\n",
       "    }\n",
       "\n",
       "    .dataframe thead th {\n",
       "        text-align: right;\n",
       "    }\n",
       "</style>\n",
       "<table border=\"1\" class=\"dataframe\">\n",
       "  <thead>\n",
       "    <tr style=\"text-align: right;\">\n",
       "      <th></th>\n",
       "      <th>Survived</th>\n",
       "      <th>Pclass</th>\n",
       "      <th>Age</th>\n",
       "      <th>SibSp</th>\n",
       "      <th>Parch</th>\n",
       "      <th>Fare</th>\n",
       "    </tr>\n",
       "  </thead>\n",
       "  <tbody>\n",
       "    <tr>\n",
       "      <th>count</th>\n",
       "      <td>891.000000</td>\n",
       "      <td>891.000000</td>\n",
       "      <td>714.000000</td>\n",
       "      <td>891.000000</td>\n",
       "      <td>891.000000</td>\n",
       "      <td>891.000000</td>\n",
       "    </tr>\n",
       "    <tr>\n",
       "      <th>mean</th>\n",
       "      <td>0.383838</td>\n",
       "      <td>2.308642</td>\n",
       "      <td>29.699118</td>\n",
       "      <td>0.523008</td>\n",
       "      <td>0.381594</td>\n",
       "      <td>32.204208</td>\n",
       "    </tr>\n",
       "    <tr>\n",
       "      <th>std</th>\n",
       "      <td>0.486592</td>\n",
       "      <td>0.836071</td>\n",
       "      <td>14.526497</td>\n",
       "      <td>1.102743</td>\n",
       "      <td>0.806057</td>\n",
       "      <td>49.693429</td>\n",
       "    </tr>\n",
       "    <tr>\n",
       "      <th>min</th>\n",
       "      <td>0.000000</td>\n",
       "      <td>1.000000</td>\n",
       "      <td>0.420000</td>\n",
       "      <td>0.000000</td>\n",
       "      <td>0.000000</td>\n",
       "      <td>0.000000</td>\n",
       "    </tr>\n",
       "    <tr>\n",
       "      <th>25%</th>\n",
       "      <td>0.000000</td>\n",
       "      <td>2.000000</td>\n",
       "      <td>20.125000</td>\n",
       "      <td>0.000000</td>\n",
       "      <td>0.000000</td>\n",
       "      <td>7.910400</td>\n",
       "    </tr>\n",
       "    <tr>\n",
       "      <th>50%</th>\n",
       "      <td>0.000000</td>\n",
       "      <td>3.000000</td>\n",
       "      <td>28.000000</td>\n",
       "      <td>0.000000</td>\n",
       "      <td>0.000000</td>\n",
       "      <td>14.454200</td>\n",
       "    </tr>\n",
       "    <tr>\n",
       "      <th>75%</th>\n",
       "      <td>1.000000</td>\n",
       "      <td>3.000000</td>\n",
       "      <td>38.000000</td>\n",
       "      <td>1.000000</td>\n",
       "      <td>0.000000</td>\n",
       "      <td>31.000000</td>\n",
       "    </tr>\n",
       "    <tr>\n",
       "      <th>max</th>\n",
       "      <td>1.000000</td>\n",
       "      <td>3.000000</td>\n",
       "      <td>80.000000</td>\n",
       "      <td>8.000000</td>\n",
       "      <td>6.000000</td>\n",
       "      <td>512.329200</td>\n",
       "    </tr>\n",
       "  </tbody>\n",
       "</table>\n",
       "</div>"
      ],
      "text/plain": [
       "         Survived      Pclass         Age       SibSp       Parch        Fare\n",
       "count  891.000000  891.000000  714.000000  891.000000  891.000000  891.000000\n",
       "mean     0.383838    2.308642   29.699118    0.523008    0.381594   32.204208\n",
       "std      0.486592    0.836071   14.526497    1.102743    0.806057   49.693429\n",
       "min      0.000000    1.000000    0.420000    0.000000    0.000000    0.000000\n",
       "25%      0.000000    2.000000   20.125000    0.000000    0.000000    7.910400\n",
       "50%      0.000000    3.000000   28.000000    0.000000    0.000000   14.454200\n",
       "75%      1.000000    3.000000   38.000000    1.000000    0.000000   31.000000\n",
       "max      1.000000    3.000000   80.000000    8.000000    6.000000  512.329200"
      ]
     },
     "execution_count": 3,
     "metadata": {},
     "output_type": "execute_result"
    }
   ],
   "source": [
    "data.info()\n",
    "data.describe()"
   ]
  },
  {
   "cell_type": "markdown",
   "id": "8360978a",
   "metadata": {},
   "source": [
    "# Fill in all the missing values present in all the columns in the dataset"
   ]
  },
  {
   "cell_type": "code",
   "execution_count": 4,
   "id": "bcfcafd1",
   "metadata": {},
   "outputs": [],
   "source": [
    "#By using Dropping rows/columns with missing values\n",
    "data = data.dropna()  # Drop rows with any missing values"
   ]
  },
  {
   "cell_type": "markdown",
   "id": "79a357fb",
   "metadata": {},
   "source": [
    "# Check and handle outliers in at least 3 columns"
   ]
  },
  {
   "cell_type": "code",
   "execution_count": 5,
   "id": "c23ab662",
   "metadata": {},
   "outputs": [
    {
     "name": "stdout",
     "output_type": "stream",
     "text": [
      "             Survived  Pclass                                Name   Sex   Age  \\\n",
      "PassengerId                                                                     \n",
      "680                 1       1  Cardeza, Mr. Thomas Drake Martinez  male  36.0   \n",
      "738                 1       1              Lesurer, Mr. Gustave J  male  35.0   \n",
      "\n",
      "             SibSp  Parch    Ticket      Fare        Cabin Embarked  \n",
      "PassengerId                                                          \n",
      "680              0      1  PC 17755  512.3292  B51 B53 B55        C  \n",
      "738              0      0  PC 17755  512.3292         B101        C  \n"
     ]
    }
   ],
   "source": [
    "from scipy import stats\n",
    "# Calculate z-scores for 'Fare'\n",
    "z_scores = stats.zscore(data['Fare'])\n",
    "# Identify outliers based on a threshold (e.g., +/- 3 standard deviations)\n",
    "outliers_idx = (z_scores < -3) | (z_scores > 3)\n",
    "outliers = data[outliers_idx]\n",
    "print(outliers)\n",
    "# Handle outliers (e.g., capping, winsorizing, or removing)"
   ]
  },
  {
   "cell_type": "code",
   "execution_count": 6,
   "id": "e5782cb6",
   "metadata": {},
   "outputs": [
    {
     "name": "stdout",
     "output_type": "stream",
     "text": [
      "Defaulting to user installation because normal site-packages is not writeable\n",
      "Requirement already satisfied: numpy==1.24.3 in c:\\users\\user\\appdata\\roaming\\python\\python39\\site-packages (1.24.3)\n",
      "Note: you may need to restart the kernel to use updated packages.\n"
     ]
    }
   ],
   "source": [
    "pip install numpy==1.24.3"
   ]
  },
  {
   "cell_type": "markdown",
   "id": "78f8312c",
   "metadata": {},
   "source": [
    "# min max scaling on the feature set"
   ]
  },
  {
   "cell_type": "code",
   "execution_count": 7,
   "id": "e48794d5",
   "metadata": {},
   "outputs": [],
   "source": [
    "target = data['Survived']\n",
    "numeric_columns = data.select_dtypes(exclude='object').drop('Survived', axis=1)\n",
    "non_numeric_columns = data.select_dtypes(include='object')\n",
    "\n",
    "#Min-Max Scaling on the numeric feature set\n",
    "scaler = MinMaxScaler()\n",
    "scaled_numeric_columns = pd.DataFrame(scaler.fit_transform(numeric_columns), columns=numeric_columns.columns, index=numeric_columns.index)\n",
    "\n",
    "# Concatenate the scaled numeric features with non-numeric columns and the target\n",
    "titanic_preprocessed = pd.concat([scaled_numeric_columns, non_numeric_columns, target], axis=1)\n",
    "\n",
    "# Now, 'titanic_preprocessed' contains the preprocessed dataset"
   ]
  },
  {
   "cell_type": "code",
   "execution_count": 8,
   "id": "edb3e149",
   "metadata": {},
   "outputs": [
    {
     "name": "stdout",
     "output_type": "stream",
     "text": [
      "             Pclass   Age  SibSp  Parch     Fare\n",
      "PassengerId                                     \n",
      "2                 1  38.0      1      0  71.2833\n",
      "4                 1  35.0      1      0  53.1000\n",
      "7                 1  54.0      0      0  51.8625\n",
      "11                3   4.0      1      1  16.7000\n",
      "12                1  58.0      0      0  26.5500\n",
      "...             ...   ...    ...    ...      ...\n",
      "872               1  47.0      1      1  52.5542\n",
      "873               1  33.0      0      0   5.0000\n",
      "880               1  56.0      0      1  83.1583\n",
      "888               1  19.0      0      0  30.0000\n",
      "890               1  26.0      0      0  30.0000\n",
      "\n",
      "[183 rows x 5 columns]\n"
     ]
    }
   ],
   "source": [
    "print(numeric_columns)"
   ]
  },
  {
   "cell_type": "code",
   "execution_count": 9,
   "id": "2437ae1f",
   "metadata": {},
   "outputs": [
    {
     "name": "stdout",
     "output_type": "stream",
     "text": [
      "                                                          Name     Sex  \\\n",
      "PassengerId                                                              \n",
      "2            Cumings, Mrs. John Bradley (Florence Briggs Th...  female   \n",
      "4                 Futrelle, Mrs. Jacques Heath (Lily May Peel)  female   \n",
      "7                                      McCarthy, Mr. Timothy J    male   \n",
      "11                             Sandstrom, Miss. Marguerite Rut  female   \n",
      "12                                    Bonnell, Miss. Elizabeth  female   \n",
      "...                                                        ...     ...   \n",
      "872           Beckwith, Mrs. Richard Leonard (Sallie Monypeny)  female   \n",
      "873                                   Carlsson, Mr. Frans Olof    male   \n",
      "880              Potter, Mrs. Thomas Jr (Lily Alexenia Wilson)  female   \n",
      "888                               Graham, Miss. Margaret Edith  female   \n",
      "890                                      Behr, Mr. Karl Howell    male   \n",
      "\n",
      "               Ticket        Cabin Embarked  \n",
      "PassengerId                                  \n",
      "2            PC 17599          C85        C  \n",
      "4              113803         C123        S  \n",
      "7               17463          E46        S  \n",
      "11            PP 9549           G6        S  \n",
      "12             113783         C103        S  \n",
      "...               ...          ...      ...  \n",
      "872             11751          D35        S  \n",
      "873               695  B51 B53 B55        S  \n",
      "880             11767          C50        C  \n",
      "888            112053          B42        S  \n",
      "890            111369         C148        C  \n",
      "\n",
      "[183 rows x 5 columns]\n"
     ]
    }
   ],
   "source": [
    "print(non_numeric_columns)"
   ]
  },
  {
   "cell_type": "code",
   "execution_count": 10,
   "id": "945af3fd",
   "metadata": {},
   "outputs": [
    {
     "name": "stdout",
     "output_type": "stream",
     "text": [
      "             Pclass       Age     SibSp  Parch      Fare\n",
      "PassengerId                                             \n",
      "2               0.0  0.468892  0.333333   0.00  0.139136\n",
      "4               0.0  0.430956  0.333333   0.00  0.103644\n",
      "7               0.0  0.671219  0.000000   0.00  0.101229\n",
      "11              1.0  0.038948  0.333333   0.25  0.032596\n",
      "12              0.0  0.721801  0.000000   0.00  0.051822\n",
      "...             ...       ...       ...    ...       ...\n",
      "872             0.0  0.582701  0.333333   0.25  0.102579\n",
      "873             0.0  0.405665  0.000000   0.00  0.009759\n",
      "880             0.0  0.696510  0.000000   0.25  0.162314\n",
      "888             0.0  0.228629  0.000000   0.00  0.058556\n",
      "890             0.0  0.317147  0.000000   0.00  0.058556\n",
      "\n",
      "[183 rows x 5 columns]\n"
     ]
    }
   ],
   "source": [
    "print(scaled_numeric_columns)"
   ]
  },
  {
   "cell_type": "code",
   "execution_count": 11,
   "id": "138f281d",
   "metadata": {},
   "outputs": [
    {
     "name": "stdout",
     "output_type": "stream",
     "text": [
      "             Pclass       Age     SibSp  Parch      Fare  \\\n",
      "PassengerId                                                \n",
      "2               0.0  0.468892  0.333333   0.00  0.139136   \n",
      "4               0.0  0.430956  0.333333   0.00  0.103644   \n",
      "7               0.0  0.671219  0.000000   0.00  0.101229   \n",
      "11              1.0  0.038948  0.333333   0.25  0.032596   \n",
      "12              0.0  0.721801  0.000000   0.00  0.051822   \n",
      "...             ...       ...       ...    ...       ...   \n",
      "872             0.0  0.582701  0.333333   0.25  0.102579   \n",
      "873             0.0  0.405665  0.000000   0.00  0.009759   \n",
      "880             0.0  0.696510  0.000000   0.25  0.162314   \n",
      "888             0.0  0.228629  0.000000   0.00  0.058556   \n",
      "890             0.0  0.317147  0.000000   0.00  0.058556   \n",
      "\n",
      "                                                          Name     Sex  \\\n",
      "PassengerId                                                              \n",
      "2            Cumings, Mrs. John Bradley (Florence Briggs Th...  female   \n",
      "4                 Futrelle, Mrs. Jacques Heath (Lily May Peel)  female   \n",
      "7                                      McCarthy, Mr. Timothy J    male   \n",
      "11                             Sandstrom, Miss. Marguerite Rut  female   \n",
      "12                                    Bonnell, Miss. Elizabeth  female   \n",
      "...                                                        ...     ...   \n",
      "872           Beckwith, Mrs. Richard Leonard (Sallie Monypeny)  female   \n",
      "873                                   Carlsson, Mr. Frans Olof    male   \n",
      "880              Potter, Mrs. Thomas Jr (Lily Alexenia Wilson)  female   \n",
      "888                               Graham, Miss. Margaret Edith  female   \n",
      "890                                      Behr, Mr. Karl Howell    male   \n",
      "\n",
      "               Ticket        Cabin Embarked  Survived  \n",
      "PassengerId                                            \n",
      "2            PC 17599          C85        C         1  \n",
      "4              113803         C123        S         1  \n",
      "7               17463          E46        S         0  \n",
      "11            PP 9549           G6        S         1  \n",
      "12             113783         C103        S         1  \n",
      "...               ...          ...      ...       ...  \n",
      "872             11751          D35        S         1  \n",
      "873               695  B51 B53 B55        S         0  \n",
      "880             11767          C50        C         1  \n",
      "888            112053          B42        S         1  \n",
      "890            111369         C148        C         1  \n",
      "\n",
      "[183 rows x 11 columns]\n"
     ]
    }
   ],
   "source": [
    "print(titanic_preprocessed)"
   ]
  },
  {
   "cell_type": "code",
   "execution_count": null,
   "id": "80cc7a45",
   "metadata": {},
   "outputs": [],
   "source": []
  },
  {
   "cell_type": "code",
   "execution_count": null,
   "id": "89d6c57f",
   "metadata": {},
   "outputs": [],
   "source": []
  }
 ],
 "metadata": {
  "kernelspec": {
   "display_name": "Python 3 (ipykernel)",
   "language": "python",
   "name": "python3"
  },
  "language_info": {
   "codemirror_mode": {
    "name": "ipython",
    "version": 3
   },
   "file_extension": ".py",
   "mimetype": "text/x-python",
   "name": "python",
   "nbconvert_exporter": "python",
   "pygments_lexer": "ipython3",
   "version": "3.9.13"
  }
 },
 "nbformat": 4,
 "nbformat_minor": 5
}
